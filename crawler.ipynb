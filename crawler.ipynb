{
 "nbformat": 4,
 "nbformat_minor": 2,
 "metadata": {
  "language_info": {
   "name": "python",
   "codemirror_mode": {
    "name": "ipython",
    "version": 3
   },
   "version": "3.7.4-final"
  },
  "orig_nbformat": 2,
  "file_extension": ".py",
  "mimetype": "text/x-python",
  "name": "python",
  "npconvert_exporter": "python",
  "pygments_lexer": "ipython3",
  "version": 3,
  "kernelspec": {
   "name": "python37464bitbaseconda7af9ca22254b43f1852c7d3c10f43431",
   "display_name": "Python 3.7.4 64-bit ('base': conda)"
  }
 },
 "cells": [
  {
   "cell_type": "code",
   "execution_count": null,
   "metadata": {},
   "outputs": [],
   "source": []
  },
  {
   "cell_type": "code",
   "execution_count": null,
   "metadata": {},
   "outputs": [],
   "source": []
  },
  {
   "cell_type": "code",
   "execution_count": null,
   "metadata": {},
   "outputs": [],
   "source": [
    "curl -X GET --header 'Accept: application/json' \\\n",
    " --header 'Authorization: hmac username=\"FFFFFFFF-FFFF-FFFF-FFFF-FFFFFFFFFFFF\", algorithm=\"hmac-sha1\", headers=\"x-date\", signature=\"pwt19jSEqg9EUT5AMZ7ioazUux8=\"' \\\n",
    " --header 'x-date: Thu, 05 Mar 2020 03:43:51 GMT' \\\n",
    " --header 'Accept-Encoding: gzip' \\\n",
    " --compressed  'https://ptx.transportdata.tw/MOTC/v3/Rail/TRA/DailyTrainTimetable/OD/1180/to/1080/2020-03-05?$count=true&$format=JSON'"
   ]
  },
  {
   "cell_type": "code",
   "execution_count": 41,
   "metadata": {},
   "outputs": [],
   "source": [
    "import datetime\n",
    "import json\n",
    "import re\n",
    "import sys\n",
    "import traceback\n",
    "import requests\n",
    "from urllib import request\n",
    "import base64\n",
    "import hmac as HMAC\n",
    "import hashlib\n",
    "from binascii import hexlify"
   ]
  },
  {
   "cell_type": "code",
   "execution_count": 54,
   "metadata": {},
   "outputs": [
    {
     "name": "stdout",
     "output_type": "stream",
     "text": "{'message': 'HMAC signature cannot be verified, a valid date or x-date header is required for HMAC Authentication'}\n"
    }
   ],
   "source": [
    "url = 'https://ptx.transportdata.tw/MOTC/v3/Rail/TRA/DailyTrainTimetable/OD/1180/to/1080/2020-03-06?$count=true&$format=JSON'\n",
    "headers = {'Authorization': 'hmac username: '+ app_key, \\\n",
    "            'algorithm': 'hmac-sha1', \\\n",
    "            'headers': 'X-date', \\\n",
    "            'signature': 'JiE4l55aBawgrJBthviqR0GknjM=', \\\n",
    "            'x-date': 'Thu, 05 Mar 2020 03:43:51 GMT', \\\n",
    "            'Accept-Encoding': 'gzip', \\\n",
    "            'content-type': 'application/json'}\n",
    "r = requests.get(url, timeout=float(10), headers=headers)\n",
    "r_obj = r.json()\n",
    "print(r_obj)"
   ]
  },
  {
   "cell_type": "code",
   "execution_count": 24,
   "metadata": {},
   "outputs": [
    {
     "ename": "HTTPError",
     "evalue": "HTTP Error 401: Unauthorized",
     "output_type": "error",
     "traceback": [
      "\u001b[0;31m---------------------------------------------------------------------------\u001b[0m",
      "\u001b[0;31mHTTPError\u001b[0m                                 Traceback (most recent call last)",
      "\u001b[0;32m<ipython-input-24-d295fa368504>\u001b[0m in \u001b[0;36m<module>\u001b[0;34m\u001b[0m\n\u001b[1;32m      1\u001b[0m \u001b[0murl\u001b[0m \u001b[0;34m=\u001b[0m \u001b[0;34m'https://ptx.transportdata.tw/MOTC/v3/Rail/TRA/DailyTrainTimetable/OD/1180/to/1080/2020-03-05?$count=true&$format=JSON'\u001b[0m\u001b[0;34m\u001b[0m\u001b[0;34m\u001b[0m\u001b[0m\n\u001b[0;32m----> 2\u001b[0;31m \u001b[0mdata\u001b[0m \u001b[0;34m=\u001b[0m \u001b[0mrequest\u001b[0m\u001b[0;34m.\u001b[0m\u001b[0murlopen\u001b[0m\u001b[0;34m(\u001b[0m\u001b[0murl\u001b[0m\u001b[0;34m)\u001b[0m\u001b[0;34m.\u001b[0m\u001b[0mread\u001b[0m\u001b[0;34m(\u001b[0m\u001b[0;34m)\u001b[0m\u001b[0;34m.\u001b[0m\u001b[0mdecode\u001b[0m\u001b[0;34m(\u001b[0m\u001b[0;34m\"utf-8\"\u001b[0m\u001b[0;34m)\u001b[0m\u001b[0;34m\u001b[0m\u001b[0;34m\u001b[0m\u001b[0m\n\u001b[0m\u001b[1;32m      3\u001b[0m \u001b[0mr_obj\u001b[0m \u001b[0;34m=\u001b[0m \u001b[0mjson\u001b[0m\u001b[0;34m.\u001b[0m\u001b[0mload\u001b[0m\u001b[0;34m(\u001b[0m\u001b[0mdata\u001b[0m\u001b[0;34m)\u001b[0m\u001b[0;34m\u001b[0m\u001b[0;34m\u001b[0m\u001b[0m\n\u001b[1;32m      4\u001b[0m \u001b[0mprint\u001b[0m\u001b[0;34m(\u001b[0m\u001b[0mr_obj\u001b[0m\u001b[0;34m)\u001b[0m\u001b[0;34m\u001b[0m\u001b[0;34m\u001b[0m\u001b[0m\n",
      "\u001b[0;32m~/opt/anaconda3/lib/python3.7/urllib/request.py\u001b[0m in \u001b[0;36murlopen\u001b[0;34m(url, data, timeout, cafile, capath, cadefault, context)\u001b[0m\n\u001b[1;32m    220\u001b[0m     \u001b[0;32melse\u001b[0m\u001b[0;34m:\u001b[0m\u001b[0;34m\u001b[0m\u001b[0;34m\u001b[0m\u001b[0m\n\u001b[1;32m    221\u001b[0m         \u001b[0mopener\u001b[0m \u001b[0;34m=\u001b[0m \u001b[0m_opener\u001b[0m\u001b[0;34m\u001b[0m\u001b[0;34m\u001b[0m\u001b[0m\n\u001b[0;32m--> 222\u001b[0;31m     \u001b[0;32mreturn\u001b[0m \u001b[0mopener\u001b[0m\u001b[0;34m.\u001b[0m\u001b[0mopen\u001b[0m\u001b[0;34m(\u001b[0m\u001b[0murl\u001b[0m\u001b[0;34m,\u001b[0m \u001b[0mdata\u001b[0m\u001b[0;34m,\u001b[0m \u001b[0mtimeout\u001b[0m\u001b[0;34m)\u001b[0m\u001b[0;34m\u001b[0m\u001b[0;34m\u001b[0m\u001b[0m\n\u001b[0m\u001b[1;32m    223\u001b[0m \u001b[0;34m\u001b[0m\u001b[0m\n\u001b[1;32m    224\u001b[0m \u001b[0;32mdef\u001b[0m \u001b[0minstall_opener\u001b[0m\u001b[0;34m(\u001b[0m\u001b[0mopener\u001b[0m\u001b[0;34m)\u001b[0m\u001b[0;34m:\u001b[0m\u001b[0;34m\u001b[0m\u001b[0;34m\u001b[0m\u001b[0m\n",
      "\u001b[0;32m~/opt/anaconda3/lib/python3.7/urllib/request.py\u001b[0m in \u001b[0;36mopen\u001b[0;34m(self, fullurl, data, timeout)\u001b[0m\n\u001b[1;32m    529\u001b[0m         \u001b[0;32mfor\u001b[0m \u001b[0mprocessor\u001b[0m \u001b[0;32min\u001b[0m \u001b[0mself\u001b[0m\u001b[0;34m.\u001b[0m\u001b[0mprocess_response\u001b[0m\u001b[0;34m.\u001b[0m\u001b[0mget\u001b[0m\u001b[0;34m(\u001b[0m\u001b[0mprotocol\u001b[0m\u001b[0;34m,\u001b[0m \u001b[0;34m[\u001b[0m\u001b[0;34m]\u001b[0m\u001b[0;34m)\u001b[0m\u001b[0;34m:\u001b[0m\u001b[0;34m\u001b[0m\u001b[0;34m\u001b[0m\u001b[0m\n\u001b[1;32m    530\u001b[0m             \u001b[0mmeth\u001b[0m \u001b[0;34m=\u001b[0m \u001b[0mgetattr\u001b[0m\u001b[0;34m(\u001b[0m\u001b[0mprocessor\u001b[0m\u001b[0;34m,\u001b[0m \u001b[0mmeth_name\u001b[0m\u001b[0;34m)\u001b[0m\u001b[0;34m\u001b[0m\u001b[0;34m\u001b[0m\u001b[0m\n\u001b[0;32m--> 531\u001b[0;31m             \u001b[0mresponse\u001b[0m \u001b[0;34m=\u001b[0m \u001b[0mmeth\u001b[0m\u001b[0;34m(\u001b[0m\u001b[0mreq\u001b[0m\u001b[0;34m,\u001b[0m \u001b[0mresponse\u001b[0m\u001b[0;34m)\u001b[0m\u001b[0;34m\u001b[0m\u001b[0;34m\u001b[0m\u001b[0m\n\u001b[0m\u001b[1;32m    532\u001b[0m \u001b[0;34m\u001b[0m\u001b[0m\n\u001b[1;32m    533\u001b[0m         \u001b[0;32mreturn\u001b[0m \u001b[0mresponse\u001b[0m\u001b[0;34m\u001b[0m\u001b[0;34m\u001b[0m\u001b[0m\n",
      "\u001b[0;32m~/opt/anaconda3/lib/python3.7/urllib/request.py\u001b[0m in \u001b[0;36mhttp_response\u001b[0;34m(self, request, response)\u001b[0m\n\u001b[1;32m    639\u001b[0m         \u001b[0;32mif\u001b[0m \u001b[0;32mnot\u001b[0m \u001b[0;34m(\u001b[0m\u001b[0;36m200\u001b[0m \u001b[0;34m<=\u001b[0m \u001b[0mcode\u001b[0m \u001b[0;34m<\u001b[0m \u001b[0;36m300\u001b[0m\u001b[0;34m)\u001b[0m\u001b[0;34m:\u001b[0m\u001b[0;34m\u001b[0m\u001b[0;34m\u001b[0m\u001b[0m\n\u001b[1;32m    640\u001b[0m             response = self.parent.error(\n\u001b[0;32m--> 641\u001b[0;31m                 'http', request, response, code, msg, hdrs)\n\u001b[0m\u001b[1;32m    642\u001b[0m \u001b[0;34m\u001b[0m\u001b[0m\n\u001b[1;32m    643\u001b[0m         \u001b[0;32mreturn\u001b[0m \u001b[0mresponse\u001b[0m\u001b[0;34m\u001b[0m\u001b[0;34m\u001b[0m\u001b[0m\n",
      "\u001b[0;32m~/opt/anaconda3/lib/python3.7/urllib/request.py\u001b[0m in \u001b[0;36merror\u001b[0;34m(self, proto, *args)\u001b[0m\n\u001b[1;32m    567\u001b[0m         \u001b[0;32mif\u001b[0m \u001b[0mhttp_err\u001b[0m\u001b[0;34m:\u001b[0m\u001b[0;34m\u001b[0m\u001b[0;34m\u001b[0m\u001b[0m\n\u001b[1;32m    568\u001b[0m             \u001b[0margs\u001b[0m \u001b[0;34m=\u001b[0m \u001b[0;34m(\u001b[0m\u001b[0mdict\u001b[0m\u001b[0;34m,\u001b[0m \u001b[0;34m'default'\u001b[0m\u001b[0;34m,\u001b[0m \u001b[0;34m'http_error_default'\u001b[0m\u001b[0;34m)\u001b[0m \u001b[0;34m+\u001b[0m \u001b[0morig_args\u001b[0m\u001b[0;34m\u001b[0m\u001b[0;34m\u001b[0m\u001b[0m\n\u001b[0;32m--> 569\u001b[0;31m             \u001b[0;32mreturn\u001b[0m \u001b[0mself\u001b[0m\u001b[0;34m.\u001b[0m\u001b[0m_call_chain\u001b[0m\u001b[0;34m(\u001b[0m\u001b[0;34m*\u001b[0m\u001b[0margs\u001b[0m\u001b[0;34m)\u001b[0m\u001b[0;34m\u001b[0m\u001b[0;34m\u001b[0m\u001b[0m\n\u001b[0m\u001b[1;32m    570\u001b[0m \u001b[0;34m\u001b[0m\u001b[0m\n\u001b[1;32m    571\u001b[0m \u001b[0;31m# XXX probably also want an abstract factory that knows when it makes\u001b[0m\u001b[0;34m\u001b[0m\u001b[0;34m\u001b[0m\u001b[0;34m\u001b[0m\u001b[0m\n",
      "\u001b[0;32m~/opt/anaconda3/lib/python3.7/urllib/request.py\u001b[0m in \u001b[0;36m_call_chain\u001b[0;34m(self, chain, kind, meth_name, *args)\u001b[0m\n\u001b[1;32m    501\u001b[0m         \u001b[0;32mfor\u001b[0m \u001b[0mhandler\u001b[0m \u001b[0;32min\u001b[0m \u001b[0mhandlers\u001b[0m\u001b[0;34m:\u001b[0m\u001b[0;34m\u001b[0m\u001b[0;34m\u001b[0m\u001b[0m\n\u001b[1;32m    502\u001b[0m             \u001b[0mfunc\u001b[0m \u001b[0;34m=\u001b[0m \u001b[0mgetattr\u001b[0m\u001b[0;34m(\u001b[0m\u001b[0mhandler\u001b[0m\u001b[0;34m,\u001b[0m \u001b[0mmeth_name\u001b[0m\u001b[0;34m)\u001b[0m\u001b[0;34m\u001b[0m\u001b[0;34m\u001b[0m\u001b[0m\n\u001b[0;32m--> 503\u001b[0;31m             \u001b[0mresult\u001b[0m \u001b[0;34m=\u001b[0m \u001b[0mfunc\u001b[0m\u001b[0;34m(\u001b[0m\u001b[0;34m*\u001b[0m\u001b[0margs\u001b[0m\u001b[0;34m)\u001b[0m\u001b[0;34m\u001b[0m\u001b[0;34m\u001b[0m\u001b[0m\n\u001b[0m\u001b[1;32m    504\u001b[0m             \u001b[0;32mif\u001b[0m \u001b[0mresult\u001b[0m \u001b[0;32mis\u001b[0m \u001b[0;32mnot\u001b[0m \u001b[0;32mNone\u001b[0m\u001b[0;34m:\u001b[0m\u001b[0;34m\u001b[0m\u001b[0;34m\u001b[0m\u001b[0m\n\u001b[1;32m    505\u001b[0m                 \u001b[0;32mreturn\u001b[0m \u001b[0mresult\u001b[0m\u001b[0;34m\u001b[0m\u001b[0;34m\u001b[0m\u001b[0m\n",
      "\u001b[0;32m~/opt/anaconda3/lib/python3.7/urllib/request.py\u001b[0m in \u001b[0;36mhttp_error_default\u001b[0;34m(self, req, fp, code, msg, hdrs)\u001b[0m\n\u001b[1;32m    647\u001b[0m \u001b[0;32mclass\u001b[0m \u001b[0mHTTPDefaultErrorHandler\u001b[0m\u001b[0;34m(\u001b[0m\u001b[0mBaseHandler\u001b[0m\u001b[0;34m)\u001b[0m\u001b[0;34m:\u001b[0m\u001b[0;34m\u001b[0m\u001b[0;34m\u001b[0m\u001b[0m\n\u001b[1;32m    648\u001b[0m     \u001b[0;32mdef\u001b[0m \u001b[0mhttp_error_default\u001b[0m\u001b[0;34m(\u001b[0m\u001b[0mself\u001b[0m\u001b[0;34m,\u001b[0m \u001b[0mreq\u001b[0m\u001b[0;34m,\u001b[0m \u001b[0mfp\u001b[0m\u001b[0;34m,\u001b[0m \u001b[0mcode\u001b[0m\u001b[0;34m,\u001b[0m \u001b[0mmsg\u001b[0m\u001b[0;34m,\u001b[0m \u001b[0mhdrs\u001b[0m\u001b[0;34m)\u001b[0m\u001b[0;34m:\u001b[0m\u001b[0;34m\u001b[0m\u001b[0;34m\u001b[0m\u001b[0m\n\u001b[0;32m--> 649\u001b[0;31m         \u001b[0;32mraise\u001b[0m \u001b[0mHTTPError\u001b[0m\u001b[0;34m(\u001b[0m\u001b[0mreq\u001b[0m\u001b[0;34m.\u001b[0m\u001b[0mfull_url\u001b[0m\u001b[0;34m,\u001b[0m \u001b[0mcode\u001b[0m\u001b[0;34m,\u001b[0m \u001b[0mmsg\u001b[0m\u001b[0;34m,\u001b[0m \u001b[0mhdrs\u001b[0m\u001b[0;34m,\u001b[0m \u001b[0mfp\u001b[0m\u001b[0;34m)\u001b[0m\u001b[0;34m\u001b[0m\u001b[0;34m\u001b[0m\u001b[0m\n\u001b[0m\u001b[1;32m    650\u001b[0m \u001b[0;34m\u001b[0m\u001b[0m\n\u001b[1;32m    651\u001b[0m \u001b[0;32mclass\u001b[0m \u001b[0mHTTPRedirectHandler\u001b[0m\u001b[0;34m(\u001b[0m\u001b[0mBaseHandler\u001b[0m\u001b[0;34m)\u001b[0m\u001b[0;34m:\u001b[0m\u001b[0;34m\u001b[0m\u001b[0;34m\u001b[0m\u001b[0m\n",
      "\u001b[0;31mHTTPError\u001b[0m: HTTP Error 401: Unauthorized"
     ]
    }
   ],
   "source": [
    "url = 'https://ptx.transportdata.tw/MOTC/v3/Rail/TRA/DailyTrainTimetable/OD/1180/to/1080/2020-03-05?$count=true&$format=JSON'\n",
    "data = request.urlopen(url).read().decode(\"utf-8\")\n",
    "r_obj = json.load(data)\n",
    "print(r_obj)"
   ]
  },
  {
   "cell_type": "code",
   "execution_count": 3,
   "metadata": {},
   "outputs": [
    {
     "name": "stdout",
     "output_type": "stream",
     "text": "桃園\n竹北\n1080\n1180\n54\n"
    }
   ],
   "source": [
    "from hashlib import sha1\n",
    "import hmac\n",
    "from wsgiref.handlers import format_date_time\n",
    "from datetime import datetime\n",
    "from time import mktime\n",
    "import base64\n",
    "import requests\n",
    "import re\n",
    "\n",
    "app_id = '45c124d40d6a4820b98ab0984475f369'\n",
    "app_key = 'kRK3wMVKJb0tUI1_px4yywc59aY'\n",
    "today_str = datetime.strftime(datetime.today(), '%Y-%m-%d')\n",
    "dt_zh = '今天'\n",
    "#print(today_str)\n",
    "location = {'基隆': '0900',\n",
    " '三坑': '0910',\n",
    " '八堵': '0920',\n",
    " '七堵': '0930',\n",
    " '百福': '0940',\n",
    " '五堵': '0950',\n",
    " '汐止': '0960',\n",
    " '汐科': '0970',\n",
    " '南港': '0980',\n",
    " '松山': '0990',\n",
    " '臺北': '1000',\n",
    " '萬華': '1010',\n",
    " '板橋': '1020',\n",
    " '浮洲': '1030',\n",
    " '樹林': '1040',\n",
    " '南樹林': '1050',\n",
    " '山佳': '1060',\n",
    " '鶯歌': '1070',\n",
    " '桃園': '1080',\n",
    " '內壢': '1090',\n",
    " '中壢': '1100',\n",
    " '埔心': '1110',\n",
    " '楊梅': '1120',\n",
    " '富岡': '1130',\n",
    " '新富': '1140',\n",
    " '北湖': '1150',\n",
    " '湖口': '1160',\n",
    " '新豐': '1170',\n",
    " '竹北': '1180',\n",
    " '北新竹': '1190',\n",
    " '新竹': '1210',\n",
    " '三姓橋': '1220',\n",
    " '香山': '1230',\n",
    " '崎頂': '1240',\n",
    " '竹南': '1250',\n",
    " '造橋': '3140',\n",
    " '豐富': '3150',\n",
    " '苗栗': '3160',\n",
    " '南勢': '3170',\n",
    " '銅鑼': '3180',\n",
    " '三義': '3190',\n",
    " '泰安': '3210',\n",
    " '后里': '3220',\n",
    " '豐原': '3230',\n",
    " '栗林': '3240',\n",
    " '潭子': '3250',\n",
    " '頭家厝': '3260',\n",
    " '松竹': '3270',\n",
    " '太原': '3280',\n",
    " '精武': '3290',\n",
    " '臺中': '3300',\n",
    " '五權': '3310',\n",
    " '大慶': '3320',\n",
    " '烏日': '3330',\n",
    " '新烏日': '3340',\n",
    " '成功': '3350',\n",
    " '彰化': '3360',\n",
    " '花壇': '3370',\n",
    " '大村': '3380',\n",
    " '員林': '3390',\n",
    " '永靖': '3400',\n",
    " '社頭': '3410',\n",
    " '田中': '3420',\n",
    " '二水': '3430',\n",
    " '林內': '3450',\n",
    " '石榴': '3460',\n",
    " '斗六': '3470',\n",
    " '斗南': '3480',\n",
    " '石龜': '3490',\n",
    " '大林': '4050',\n",
    " '民雄': '4060',\n",
    " '嘉北': '4070',\n",
    " '嘉義': '4080',\n",
    " '水上': '4090',\n",
    " '南靖': '4100',\n",
    " '後壁': '4110',\n",
    " '新營': '4120',\n",
    " '柳營': '4130',\n",
    " '林鳳營': '4140',\n",
    " '隆田': '4150',\n",
    " '拔林': '4160',\n",
    " '善化': '4170',\n",
    " '南科': '4180',\n",
    " '新市': '4190',\n",
    " '永康': '4200',\n",
    " '大橋': '4210',\n",
    " '臺南': '4220',\n",
    " '林森': '4230',\n",
    " '南臺南': '4240',\n",
    " '保安': '4250',\n",
    " '仁德': '4260',\n",
    " '中洲': '4270',\n",
    " '大湖': '4290',\n",
    " '路竹': '4300',\n",
    " '岡山': '4310',\n",
    " '橋頭': '4320',\n",
    " '楠梓': '4330',\n",
    " '新左營': '4340',\n",
    " '左營': '4350',\n",
    " '內惟': '4360',\n",
    " '美術館': '4370',\n",
    " '鼓山': '4380',\n",
    " '三塊厝': '4390',\n",
    " '高雄': '4400',\n",
    " '民族': '4410',\n",
    " '科工館': '4420',\n",
    " '正義': '4430',\n",
    " '鳳山': '4440',\n",
    " '後庄': '4450',\n",
    " '九曲堂': '4460',\n",
    " '六塊厝': '4470',\n",
    " '屏東': '5000'}\n",
    "\n",
    "ipt = '桃園到竹北'\n",
    "from_where = ''\n",
    "end_where = ''\n",
    "ipt_pattern = re.search(r'(基隆|三坑|八堵|七堵|百福|五堵|汐止|汐科|南港|松山|臺北|萬華|板橋|浮洲|樹林|南樹林|山佳|鶯歌|桃園|內壢|中壢|埔心|楊梅|富岡|新富|北湖|湖口|新豐|竹北|北新竹|新竹|三姓橋|香山|崎頂|竹南|造橋|豐富|苗栗|南勢|銅鑼|三義|泰安|后里|豐原|栗林|潭子|頭家厝|松竹|太原|精武|臺中|五權|大慶|烏日|新烏日|成功|彰化|花壇|大村|員林|永靖|社頭|田中|二水|林內|石榴|斗六|斗南|石龜|大林|民雄|嘉北|嘉義|水上|南靖|後壁|新營|柳營|林鳳營|隆田|拔林|善化|南科|新市|永康|大橋|臺南|林森|南臺南|保安|仁德|中洲|大湖|路竹|岡山|橋頭|楠梓|新左營|左營|內惟|美術館|鼓山|三塊厝|高雄|民族|科工館|正義|鳳山|後庄|九曲堂|六塊厝|屏東).*[到去回](基隆|三坑|八堵|七堵|百福|五堵|汐止|汐科|南港|松山|臺北|萬華|板橋|浮洲|樹林|南樹林|山佳|鶯歌|桃園|內壢|中壢|埔心|楊梅|富岡|新富|北湖|湖口|新豐|竹北|北新竹|新竹|三姓橋|香山|崎頂|竹南|造橋|豐富|苗栗|南勢|銅鑼|三義|泰安|后里|豐原|栗林|潭子|頭家厝|松竹|太原|精武|臺中|五權|大慶|烏日|新烏日|成功|彰化|花壇|大村|員林|永靖|社頭|田中|二水|林內|石榴|斗六|斗南|石龜|大林|民雄|嘉北|嘉義|水上|南靖|後壁|新營|柳營|林鳳營|隆田|拔林|善化|南科|新市|永康|大橋|臺南|林森|南臺南|保安|仁德|中洲|大湖|路竹|岡山|橋頭|楠梓|新左營|左營|內惟|美術館|鼓山|三塊厝|高雄|民族|科工館|正義|鳳山|後庄|九曲堂|六塊厝|屏東)', ipt)\n",
    "ipt_pattern_dt = re.search(r'今天|明天|後天|大後天', ipt)\n",
    "if ipt_pattern:\n",
    "    from_where = ipt_pattern.group(1)\n",
    "    print(from_where)\n",
    "    end_where = ipt_pattern.group(2)\n",
    "    print(end_where)\n",
    "\n",
    "\n",
    "class Auth():\n",
    "\n",
    "    def __init__(self, app_id, app_key):\n",
    "        self.app_id = app_id\n",
    "        self.app_key = app_key\n",
    "\n",
    "    def get_auth_header(self):\n",
    "        xdate = format_date_time(mktime(datetime.now().timetuple()))\n",
    "        hashed = hmac.new(self.app_key.encode('utf8'), ('x-date: ' + xdate).encode('utf8'), sha1)\n",
    "        signature = base64.b64encode(hashed.digest()).decode()\n",
    "\n",
    "        authorization = 'hmac username=\"' + self.app_id + '\", ' + \\\n",
    "                        'algorithm=\"hmac-sha1\", ' + \\\n",
    "                        'headers=\"x-date\", ' + \\\n",
    "                        'signature=\"' + signature + '\"'\n",
    "        return {\n",
    "            'Authorization': authorization,\n",
    "            'x-date': format_date_time(mktime(datetime.now().timetuple())),\n",
    "            'Accept - Encoding': 'gzip'\n",
    "        }\n",
    "if from_where != '' and end_where != '':\n",
    "    \n",
    "    print(location[from_where])\n",
    "    print(location[end_where])\n",
    "    app = Auth(app_id, app_key)\n",
    "    url = 'https://ptx.transportdata.tw/MOTC/v3/Rail/TRA/DailyTrainTimetable/OD/{fr}/to/{ed}/{dates}?$count=true&$format=JSON'.format(fr=location[from_where], ed=location[end_where], dates=today_str)\n",
    "    headers = {'algorithm': 'hmac-sha1', \\\n",
    "                'headers': 'X-date', \\\n",
    "                'content-type': 'application/json'\n",
    "                }\n",
    "    headers.update(app.get_auth_header())\n",
    "    r = requests.get(url, timeout=float(10), headers=headers)\n",
    "    r_obj = r.json()\n",
    "    print(r_obj['Count'])\n",
    "else:\n",
    "    print('輸入格式錯誤')"
   ]
  },
  {
   "cell_type": "code",
   "execution_count": 20,
   "metadata": {},
   "outputs": [
    {
     "name": "stdout",
     "output_type": "stream",
     "text": "目前時間:  2020-03-06 12:04\n---\n['0', '47', '00']\n['0', '49', '00']\n['0', '50', '00']\n['0', '53', '00']\n['0', '56', '00']\n['0', '36', '00']\n['0', '53', '00']\n['1', '01', '00']\n['0', '52', '00']\n['0', '55', '00']\n['0', '55', '00']\n['0', '53', '00']\n['0', '54', '00']\n['1', '00', '00']\n['0', '49', '00']\n['0', '53', '00']\n['0', '53', '00']\n['0', '55', '00']\n['0', '49', '00']\n['0', '57', '00']\n['0', '47', '00']\n['0', '48', '00']\n['0', '51', '00']\n['0', '53', '00']\n['0', '51', '00']\n['0', '47', '00']\n['0', '49', '00']\n['0', '56', '00']\n['0', '54', '00']\n['0', '55', '00']\n['0', '53', '00']\n['0', '41', '00']\n['0', '53', '00']\n['0', '56', '00']\n['0', '47', '00']\n['0', '50', '00']\n['0', '56', '00']\n['0', '47', '00']\n['0', '47', '00']\n['0', '55', '00']\n['1', '00', '00']\n['0', '47', '00']\n['0', '46', '00']\n['0', '54', '00']\n['0', '55', '00']\n['0', '55', '00']\n['0', '46', '00']\n['0', '55', '00']\n['-1 day, 0', '47', '00']\n['1', '02', '00']\n['1', '00', '00']\n['0', '48', '00']\n['0', '48', '00']\n['0', '47', '00']\n從 桃園-12:44 到 竹北-13:38 (區間-2193 需花費 54分鐘 乘車時間)\n從 桃園-12:58 到 竹北-13:52 (區間-1177 需花費 54分鐘 乘車時間)\n從 桃園-13:22 到 竹北-14:23 (區間-1181 需花費 1小時01分鐘 乘車時間)\n從 桃園-13:40 到 竹北-14:33 (區間-2203 需花費 53分鐘 乘車時間)\n從 桃園-14:00 到 竹北-14:52 (區間-1187 需花費 52分鐘 乘車時間)\n從 桃園-14:10 到 竹北-14:57 (區間-1191 需花費 47分鐘 乘車時間)\n從 桃園-14:40 到 竹北-15:31 (區間-2213 需花費 51分鐘 乘車時間)\n從 桃園-15:03 到 竹北-15:50 (區間-1197 需花費 47分鐘 乘車時間)\n從 桃園-15:24 到 竹北-16:17 (區間-1201 需花費 53分鐘 乘車時間)\n從 桃園-15:50 到 竹北-16:46 (區間-2223 需花費 56分鐘 乘車時間)\n從 桃園-16:04 到 竹北-16:57 (區間-1207 需花費 53分鐘 乘車時間)\n從 桃園-16:24 到 竹北-17:19 (區間-1211 需花費 55分鐘 乘車時間)\n從 桃園-16:41 到 竹北-17:36 (區間-2233 需花費 55分鐘 乘車時間)\n從 桃園-16:58 到 竹北-17:49 (區間-1217 需花費 51分鐘 乘車時間)\n從 桃園-17:23 到 竹北-18:18 (區間-1221 需花費 55分鐘 乘車時間)\n從 桃園-17:40 到 竹北-18:26 (區間-2243 需花費 46分鐘 乘車時間)\n從 桃園-17:49 到 竹北-18:49 (區間-1227 需花費 1小時 乘車時間)\n從 桃園-17:54 到 竹北-18:43 (區間快-2033 需花費 49分鐘 乘車時間)\n從 桃園-18:10 到 竹北-19:05 (區間-1231 需花費 55分鐘 乘車時間)\n從 桃園-18:32 到 竹北-19:28 (區間-2253 需花費 56分鐘 乘車時間)\n從 桃園-18:48 到 竹北-19:38 (區間-1235 需花費 50分鐘 乘車時間)\n從 桃園-19:12 到 竹北-20:14 (區間-1237 需花費 1小時02分鐘 乘車時間)\n從 桃園-19:15 到 竹北-19:51 (自強-147 需花費 36分鐘 乘車時間)\n從 桃園-19:26 到 竹北-20:23 (區間-2263 需花費 57分鐘 乘車時間)\n從 桃園-19:45 到 竹北-20:40 (區間-1241 需花費 55分鐘 乘車時間)\n從 桃園-20:06 到 竹北-21:06 (區間-1247 需花費 1小時 乘車時間)\n從 桃園-20:25 到 竹北-21:18 (區間-1251 需花費 53分鐘 乘車時間)\n從 桃園-20:48 到 竹北-21:42 (區間-2273 需花費 54分鐘 乘車時間)\n從 桃園-21:13 到 竹北-22:08 (區間-1257 需花費 55分鐘 乘車時間)\n從 桃園-21:40 到 竹北-22:27 (區間-1263 需花費 47分鐘 乘車時間)\n從 桃園-22:17 到 竹北-23:06 (區間-1267 需花費 49分鐘 乘車時間)\n從 桃園-22:48 到 竹北-23:35 (區間-1273 需花費 47分鐘 乘車時間)\n從 桃園-23:16 到 竹北-00:03 (區間-1281 需花費 47分鐘 乘車時間)\n\n"
    }
   ],
   "source": [
    "from datetime import timedelta\n",
    "import re\n",
    "\n",
    "trainTimeTable = {}\n",
    "timeSequence = []\n",
    "\n",
    "#get now time (datetime format)\n",
    "nowTime = datetime.strftime(datetime.now(), '%Y-%m-%d %H:%M')\n",
    "print('目前時間: ', nowTime)\n",
    "#print(datetime.now()- timedelta(days=43893))\n",
    "print('---')\n",
    "if r_obj['Count'] == '0':\n",
    "    print('查無航班')\n",
    "for payload in r_obj['TrainTimetables']:\n",
    "    #set default information\n",
    "    trainNo = payload['TrainInfo']['TrainNo']\n",
    "    trainType = payload['TrainInfo']['TrainTypeName']['Zh_tw']\n",
    "    startStation = payload['StopTimes'][0]['StationName']['Zh_tw']\n",
    "    arrivalStation = payload['StopTimes'][1]['StationName']['Zh_tw']\n",
    "    startTime_str = payload['StopTimes'][0]['ArrivalTime']\n",
    "    arrivalTime_str = payload['StopTimes'][1]['DepartureTime']\n",
    "\n",
    "    #判斷時間順序\n",
    "    regconizeTime = startTime_str.replace(':', '')\n",
    "    \n",
    "    #string to datetime format\n",
    "    startTime_dt = datetime.strptime(startTime_str, '%H:%M')\n",
    "    arrivalTime_dt = datetime.strptime(arrivalTime_str, '%H:%M')\n",
    "\n",
    "    #計算行駛時間並判定車趟行駛與否\n",
    "    duration = []\n",
    "    duration_dt =  arrivalTime_dt - startTime_dt\n",
    "    duration_str = str(duration_dt).split(':')\n",
    "    print(duration_str)\n",
    "    if duration_str[0] != '0' and len(duration_str[0]) <= 2:\n",
    "        duration.append(duration_str[0]+'小時')\n",
    "    if duration_str[1] != '00':\n",
    "        duration.append(duration_str[1]+'分鐘')\n",
    "    #print(duration)\n",
    "    duration = ''.join(duration)\n",
    "    dt = datetime.today()-datetime.strptime(\"1900-1-1\", \"%Y-%m-%d\")\n",
    "    checktime = str(startTime_dt - datetime.now() + timedelta(days=dt.days))\n",
    "    check = re.search(r'-1 day', checktime)\n",
    "\n",
    "    #將當日未行駛車趟放入dict\n",
    "    if not check:\n",
    "        timeSequence.append(regconizeTime)\n",
    "        appends = {\n",
    "            regconizeTime:[trainNo, trainType, startStation, arrivalStation, startTime_str, arrivalTime_str,duration]\n",
    "            }\n",
    "        trainTimeTable.update(appends)\n",
    "        \n",
    "#對所有車趟進行時間排序\n",
    "timeSequence.sort()\n",
    "results = []\n",
    "for trainInfo in timeSequence:\n",
    "    #print(trainTimeTable[trainInfo])\n",
    "    trainType_short = re.search(r'(區間快|區間|自強|莒光)', trainTimeTable[trainInfo][1])\n",
    "    if trainType_short:\n",
    "        trainTimeTable[trainInfo][1] = trainType_short.group(1)\n",
    "    result = '從 {from_}-{from_time} 到 {end}-{end_time} ({type}-{No} 需花費 {durations} 乘車時間)\\r\\n'.format(\n",
    "        type=trainTimeTable[trainInfo][1], No=trainTimeTable[trainInfo][0],\n",
    "        from_=trainTimeTable[trainInfo][2], end=trainTimeTable[trainInfo][3], \n",
    "        from_time=trainTimeTable[trainInfo][4], end_time=trainTimeTable[trainInfo][5],\n",
    "        durations=trainTimeTable[trainInfo][6])\n",
    "    results.append(result)\n",
    "print(''.join(results))\n",
    "\n",
    "\n",
    "    #print('{type}({No})'.format(type=trainType, No=trainNo))\n",
    "    #print('從 {from_}-{from_time} 到 {end}-{end_time}'.format(\n",
    "    #    from_=startStation, end=arrivalStation, \n",
    "    #    from_time=startTime_str, end_time=arrivalTime_str))\n",
    "    #print('耗時: ', duration_dt)\n",
    "    #print('---')"
   ]
  },
  {
   "cell_type": "code",
   "execution_count": 78,
   "metadata": {},
   "outputs": [
    {
     "name": "stdout",
     "output_type": "stream",
     "text": "['0900', '0910', '0920', '0930', '0940', '0950', '0960', '0970', '0980', '0990', '1000', '1010', '1020', '1030', '1040', '1050', '1060', '1070', '1080', '1090', '1100', '1110', '1120', '1130', '1140', '1150', '1160', '1170', '1180', '1190', '1210', '1220', '1230', '1240', '1250', '3140', '3150', '3160', '3170', '3180', '3190', '3210', '3220', '3230', '3240', '3250', '3260', '3270', '3280', '3290', '3300', '3310', '3320', '3330', '3340', '3350', '3360', '3370', '3380', '3390', '3400', '3410', '3420', '3430', '3450', '3460', '3470', '3480', '3490', '4050', '4060', '4070', '4080', '4090', '4100', '4110', '4120', '4130', '4140', '4150', '4160', '4170', '4180', '4190', '4200', '4210', '4220', '4230', '4240', '4250', '4260', '4270', '4290', '4300', '4310', '4320', '4330', '4340', '4350', '4360', '4370', '4380', '4390', '4400', '4410', '4420', '4430', '4440', '4450', '4460', '4470', '5000']\n['基隆', '三坑', '八堵', '七堵', '百福', '五堵', '汐止', '汐科', '南港', '松山', '臺北', '萬華', '板橋', '浮洲', '樹林', '南樹林', '山佳', '鶯歌', '桃園', '內壢', '中壢', '埔心', '楊梅', '富岡', '新富', '北湖', '湖口', '新豐', '竹北', '北新竹', '新竹', '三姓橋', '香山', '崎頂', '竹南', '造橋', '豐富', '苗栗', '南勢', '銅鑼', '三義', '泰安', '后里', '豐原', '栗林', '潭子', '頭家厝', '松竹', '太原', '精武', '臺中', '五權', '大慶', '烏日', '新烏日', '成功', '彰化', '花壇', '大村', '員林', '永靖', '社頭', '田中', '二水', '林內', '石榴', '斗六', '斗南', '石龜', '大林', '民雄', '嘉北', '嘉義', '水上', '南靖', '後壁', '新營', '柳營', '林鳳營', '隆田', '拔林', '善化', '南科', '新市', '永康', '大橋', '臺南', '林森', '南臺南', '保安', '仁德', '中洲', '大湖', '路竹', '岡山', '橋頭', '楠梓', '新左營', '左營', '內惟', '美術館', '鼓山', '三塊厝', '高雄', '民族', '科工館', '正義', '鳳山', '後庄', '九曲堂', '六塊厝', '屏東']\n"
    },
    {
     "data": {
      "text/plain": "{'基隆': '0900',\n '三坑': '0910',\n '八堵': '0920',\n '七堵': '0930',\n '百福': '0940',\n '五堵': '0950',\n '汐止': '0960',\n '汐科': '0970',\n '南港': '0980',\n '松山': '0990',\n '臺北': '1000',\n '萬華': '1010',\n '板橋': '1020',\n '浮洲': '1030',\n '樹林': '1040',\n '南樹林': '1050',\n '山佳': '1060',\n '鶯歌': '1070',\n '桃園': '1080',\n '內壢': '1090',\n '中壢': '1100',\n '埔心': '1110',\n '楊梅': '1120',\n '富岡': '1130',\n '新富': '1140',\n '北湖': '1150',\n '湖口': '1160',\n '新豐': '1170',\n '竹北': '1180',\n '北新竹': '1190',\n '新竹': '1210',\n '三姓橋': '1220',\n '香山': '1230',\n '崎頂': '1240',\n '竹南': '1250',\n '造橋': '3140',\n '豐富': '3150',\n '苗栗': '3160',\n '南勢': '3170',\n '銅鑼': '3180',\n '三義': '3190',\n '泰安': '3210',\n '后里': '3220',\n '豐原': '3230',\n '栗林': '3240',\n '潭子': '3250',\n '頭家厝': '3260',\n '松竹': '3270',\n '太原': '3280',\n '精武': '3290',\n '臺中': '3300',\n '五權': '3310',\n '大慶': '3320',\n '烏日': '3330',\n '新烏日': '3340',\n '成功': '3350',\n '彰化': '3360',\n '花壇': '3370',\n '大村': '3380',\n '員林': '3390',\n '永靖': '3400',\n '社頭': '3410',\n '田中': '3420',\n '二水': '3430',\n '林內': '3450',\n '石榴': '3460',\n '斗六': '3470',\n '斗南': '3480',\n '石龜': '3490',\n '大林': '4050',\n '民雄': '4060',\n '嘉北': '4070',\n '嘉義': '4080',\n '水上': '4090',\n '南靖': '4100',\n '後壁': '4110',\n '新營': '4120',\n '柳營': '4130',\n '林鳳營': '4140',\n '隆田': '4150',\n '拔林': '4160',\n '善化': '4170',\n '南科': '4180',\n '新市': '4190',\n '永康': '4200',\n '大橋': '4210',\n '臺南': '4220',\n '林森': '4230',\n '南臺南': '4240',\n '保安': '4250',\n '仁德': '4260',\n '中洲': '4270',\n '大湖': '4290',\n '路竹': '4300',\n '岡山': '4310',\n '橋頭': '4320',\n '楠梓': '4330',\n '新左營': '4340',\n '左營': '4350',\n '內惟': '4360',\n '美術館': '4370',\n '鼓山': '4380',\n '三塊厝': '4390',\n '高雄': '4400',\n '民族': '4410',\n '科工館': '4420',\n '正義': '4430',\n '鳳山': '4440',\n '後庄': '4450',\n '九曲堂': '4460',\n '六塊厝': '4470',\n '屏東': '5000'}"
     },
     "execution_count": 78,
     "metadata": {},
     "output_type": "execute_result"
    }
   ],
   "source": [
    "s = '基隆0900三坑0910八堵0920七堵0930百福0940五堵0950汐止0960汐科0970南港0980松山0990臺北1000萬華1010板橋1020浮洲1030樹林1040南樹林1050山佳1060鶯歌1070桃園1080內壢1090中壢1100埔心1110楊梅1120富岡1130新富1140北湖1150湖口1160新豐1170竹北1180北新竹1190新竹1210三姓橋1220香山1230崎頂1240竹南1250造橋3140豐富3150苗栗3160南勢3170銅鑼3180三義3190泰安3210后里3220豐原3230栗林3240潭子3250頭家厝3260松竹3270太原3280精武3290臺中3300五權3310大慶3320烏日3330新烏日3340成功3350彰化3360花壇3370大村3380員林3390永靖3400社頭3410田中3420二水3430林內3450石榴3460斗六3470斗南3480石龜3490大林4050民雄4060嘉北4070嘉義4080水上4090南靖4100後壁4110新營4120柳營4130林鳳營4140隆田4150拔林4160善化4170南科4180新市4190永康4200大橋4210臺南4220林森4230南臺南4240保安4250仁德4260中洲4270大湖4290路竹4300岡山4310橋頭4320楠梓4330新左營4340左營4350內惟4360美術館4370鼓山4380三塊厝4390高雄4400民族4410科工館4420正義4430鳳山4440後庄4450九曲堂4460六塊厝4470屏東5000'\n",
    "locateNum = re.findall(r'([0-9]{4})', s)\n",
    "print(locateNum)\n",
    "\n",
    "tmp = []\n",
    "locate = []\n",
    "num = ['0', '1', '2', '3', '4', '5', '6', '7', '8', '9']\n",
    "count = 0\n",
    "for c in s:\n",
    "    if c in num:\n",
    "        count += 1\n",
    "    if c not in num:\n",
    "        tmp.append(c)\n",
    "    elif count == 4:\n",
    "        locate.append(''.join(tmp))\n",
    "        tmp = []\n",
    "        count = 0\n",
    "print(locate)\n",
    "ccc = {}\n",
    "for i in range(0, len(locate)):\n",
    "    a = {locate[i]:locateNum[i]}\n",
    "    ccc.update(a)\n",
    "ccc"
   ]
  },
  {
   "cell_type": "code",
   "execution_count": 147,
   "metadata": {},
   "outputs": [
    {
     "data": {
      "text/plain": "<html><head>\n<meta charset=\"utf-8\"/>\n<meta content=\"width=device-width, initial-scale=1\" name=\"viewport\"/>\n<title>批踢踢實業坊</title>\n<link href=\"//images.ptt.cc/bbs/v2.27/bbs-common.css\" rel=\"stylesheet\" type=\"text/css\"/>\n<link href=\"//images.ptt.cc/bbs/v2.27/bbs-base.css\" media=\"screen\" rel=\"stylesheet\" type=\"text/css\"/>\n<link href=\"//images.ptt.cc/bbs/v2.27/bbs-custom.css\" rel=\"stylesheet\" type=\"text/css\"/>\n<link href=\"//images.ptt.cc/bbs/v2.27/pushstream.css\" media=\"screen\" rel=\"stylesheet\" type=\"text/css\"/>\n<link href=\"//images.ptt.cc/bbs/v2.27/bbs-print.css\" media=\"print\" rel=\"stylesheet\" type=\"text/css\"/>\n</head>\n<body>\n<div class=\"bbs-screen bbs-content\">\n<div class=\"over18-notice\">\n<p>本網站已依網站內容分級規定處理</p>\n<p>警告︰您即將進入之看板內容需滿十八歲方可瀏覽。</p>\n<p>若您尚未年滿十八歲，請點選離開。若您已滿十八歲，亦不可將本區之內容派發、傳閱、出售、出租、交給或借予年齡未滿18歲的人士瀏覽，或將本網站內容向該人士出示、播放或放映。</p>\n</div>\n</div>\n<div class=\"bbs-screen bbs-content center clear\">\n<form action=\"/ask/over18\" method=\"post\">\n<input name=\"from\" type=\"hidden\" value=\"/bbs/Beauty/index3229.html\"/>\n<div class=\"over18-button-container\">\n<button class=\"btn-big\" name=\"yes\" type=\"submit\" value=\"yes\">我同意，我已年滿十八歲<br/><small>進入</small></button>\n</div>\n<div class=\"over18-button-container\">\n<button class=\"btn-big\" name=\"no\" type=\"submit\" value=\"no\">未滿十八歲或不同意本條款<br/><small>離開</small></button>\n</div>\n</form>\n</div>\n<script async=\"\" src=\"https://www.google-analytics.com/analytics.js\"></script><script>\n  (function(i,s,o,g,r,a,m){i['GoogleAnalyticsObject']=r;i[r]=i[r]||function(){\n  (i[r].q=i[r].q||[]).push(arguments)},i[r].l=1*new Date();a=s.createElement(o),\n  m=s.getElementsByTagName(o)[0];a.async=1;a.src=g;m.parentNode.insertBefore(a,m)\n  })(window,document,'script','https://www.google-analytics.com/analytics.js','ga');\n\n  ga('create', 'UA-32365737-1', {\n    cookieDomain: 'ptt.cc',\n    legacyCookieDomain: 'ptt.cc'\n  });\n  ga('send', 'pageview');\n</script>\n<script src=\"//ajax.googleapis.com/ajax/libs/jquery/2.1.1/jquery.min.js\"></script>\n<script src=\"//images.ptt.cc/bbs/v2.27/bbs.js\"></script>\n</body></html>"
     },
     "execution_count": 147,
     "metadata": {},
     "output_type": "execute_result"
    }
   ],
   "source": [
    "import time\n",
    "import os\n",
    "import re\n",
    "from selenium import webdriver\n",
    "from bs4 import BeautifulSoup\n",
    "pageNum = '3229'\n",
    "url = 'https://www.ptt.cc/bbs/Beauty/index'+ pageNum +'.html'\n",
    "driver = webdriver.Chrome(executable_path='/Users/anita/Desktop/lishang/workspace/Github/4700_bot/chromedriver')\n",
    "driver.get(url)\n",
    "soup = BeautifulSoup(driver.page_source,'lxml')\n",
    "driver.find_element_by_xpath(\"//button[@type='submit']\").click()\n",
    "time.sleep(3)\n",
    "soup"
   ]
  },
  {
   "cell_type": "code",
   "execution_count": 150,
   "metadata": {},
   "outputs": [
    {
     "data": {
      "text/plain": "['/bbs/Beauty/M.1583672296.A.F30.html',\n '[正妹] 隨便看到的',\n '/bbs/Beauty/M.1583674759.A.E92.html',\n '[正妹] Caroline Vreeland 美國模特兒、歌手',\n '/bbs/Beauty/M.1583677585.A.EAB.html',\n '[正妹] 珉雅',\n '/bbs/Beauty/M.1583678047.A.E18.html',\n '[正妹] 得罪攝影師？',\n '/bbs/Beauty/M.1583681600.A.5E3.html',\n '[正妹] 舌結',\n '/bbs/Beauty/M.1583682095.A.41F.html',\n '[正妹] 大女孩(16)',\n '/bbs/Beauty/M.1583705664.A.6C8.html',\n '[帥哥] 阿伯',\n '/bbs/Beauty/M.1583715958.A.94A.html',\n '[正妹] 愛妳愛妳309',\n '/bbs/Beauty/M.1583717349.A.2AE.html',\n '[廣告] AV女優 天使もえ (多圖)',\n '/bbs/Beauty/M.1583718227.A.92E.html',\n '[正妹] 西尾夕香',\n '/bbs/Beauty/M.1583719618.A.DB1.html',\n '[神人] 與艾瑪教練健身的女警',\n '/bbs/Beauty/M.1583720629.A.DDD.html',\n '[正妹] 這個不兇',\n '/bbs/Beauty/M.1583724852.A.484.html',\n '[正妹] 日向坂46 金村美玖',\n '/bbs/Beauty/M.1583726328.A.B88.html',\n '[正妹]NMB48村瀨紗英',\n ' 3/08',\n ' 3/08',\n ' 3/08',\n ' 3/08',\n ' 3/08',\n ' 3/08',\n ' 3/08',\n ' 3/08',\n ' 3/08',\n ' 3/09',\n ' 3/09',\n ' 3/09',\n ' 3/09',\n ' 3/09',\n ' 3/09',\n ' 3/09',\n ' 3/09',\n ' 3/09',\n ' 3/09',\n ' 3/09']"
     },
     "execution_count": 150,
     "metadata": {},
     "output_type": "execute_result"
    }
   ],
   "source": [
    "pageNum = '3290'\n",
    "driver.get(url)\n",
    "soup = BeautifulSoup(driver.page_source,'lxml')\n",
    "#driver.find_element_by_xpath(\"//button[@type='submit']\").click()\n",
    "time.sleep(3)\n",
    "num = 0\n",
    "storage = []\n",
    "for title in soup.select('#main-container div div.r-ent div.title a'):\n",
    "    storage.append(title.get('href'))\n",
    "    storage.append(title.text)\n",
    "for dt in soup.select('#main-container div div.r-ent div.meta div.date'):\n",
    "    storage.append(dt.text)\n",
    "storage"
   ]
  },
  {
   "cell_type": "code",
   "execution_count": 177,
   "metadata": {},
   "outputs": [
    {
     "data": {
      "text/plain": "[['[正妹] 隨便看到的',\n  '/bbs/Beauty/M.1583672296.A.F30.html',\n  '3/08',\n  'https:https://imgur.com/a/6pheG1L'],\n ['[正妹] Caroline Vreeland 美國模特兒、歌手',\n  '/bbs/Beauty/M.1583674759.A.E92.html',\n  '3/08',\n  'https:https://i.imgur.com/tuogWHb.jpg',\n  'https:https://i.imgur.com/m4TEcgD.jpg',\n  'https:https://i.imgur.com/0RMAKK8.jpg',\n  'https:https://i.imgur.com/ZFUDv9j.jpg',\n  'https:https://i.imgur.com/NfaKedZ.jpg',\n  'https:https://i.imgur.com/2JA4276.jpg',\n  'https:https://i.imgur.com/ROmcb4H.jpg',\n  'https:https://i.imgur.com/zCruE4Z.jpg',\n  'https:https://i.imgur.com/tiTfShT.jpg',\n  'https:https://i.imgur.com/FKn4s3q.jpg',\n  'https:https://i.imgur.com/rutyDLZ.jpg',\n  'https:https://i.imgur.com/LUqio3B.jpg',\n  'https:https://i.imgur.com/VpiHc1f.jpg',\n  'https:https://i.imgur.com/dXSTshZ.jpg',\n  'https:https://i.imgur.com/sBSXKtt.jpg',\n  'https:https://i.imgur.com/uCkwB4j.jpg',\n  'https:https://i.imgur.com/Mme3ITr.jpg',\n  'https:https://i.imgur.com/NnNjRqn.jpg',\n  'https:https://i.imgur.com/F1V2BVK.jpg',\n  'https:https://i.imgur.com/0GwppSR.jpg',\n  'https:https://i.imgur.com/mujsFzP.jpg',\n  'https:https://i.imgur.com/Ny72f2q.jpg',\n  'https:https://i.imgur.com/pOmoQqU.jpg',\n  'https:https://i.imgur.com/LmjbGZJ.jpg',\n  'https:https://i.imgur.com/unAMqkw.jpg',\n  'https:https://i.imgur.com/UbYqHbg.jpg',\n  'https:https://i.imgur.com/Y9fRQIE.jpg',\n  'https:https://i.imgur.com/pnEKsru.jpg',\n  'https:https://i.imgur.com/ATuLpc0.jpg',\n  'https:https://i.imgur.com/6wrzH1z.jpg'],\n ['[正妹] 珉雅',\n  '/bbs/Beauty/M.1583677585.A.EAB.html',\n  '3/08',\n  'https:https://i.imgur.com/HcS5xQJ.jpg',\n  'https:https://i.imgur.com/irDHiKt.jpg',\n  'https:https://i.imgur.com/2nAbDoS.jpg',\n  'https:https://i.imgur.com/M6awGN7.jpg',\n  'https:https://i.imgur.com/AMAZltm.jpg',\n  'https:https://i.imgur.com/m9SDTHW.jpg',\n  'https:https://i.imgur.com/hnFPbS1.jpg',\n  'https:https://i.imgur.com/lEhpPNN.jpg',\n  'https:https://i.imgur.com/koir2vA.jpg',\n  'https:https://i.imgur.com/TRLeKQQ.jpg',\n  'https:https://i.imgur.com/yeYlfUE.jpg',\n  'https:https://i.imgur.com/l5qFlQ7.jpg',\n  'https:https://i.imgur.com/MtE1eN9.jpg',\n  'https:https://i.imgur.com/00gh5id.jpg',\n  'https:https://i.imgur.com/ck6JMCx.jpg',\n  'https:https://i.imgur.com/4RgbC45.jpg',\n  'https:https://i.imgur.com/5STXKVw.jpg'],\n ['[正妹] 得罪攝影師？', '/bbs/Beauty/M.1583678047.A.E18.html', '3/08'],\n ['[正妹] 舌結', '/bbs/Beauty/M.1583681600.A.5E3.html', '3/08'],\n ['[正妹] 大女孩(16)',\n  '/bbs/Beauty/M.1583682095.A.41F.html',\n  '3/08',\n  'https:https://i.imgur.com/cfsBLD3.jpg',\n  'https:https://i.imgur.com/gq0H6nL.jpg',\n  'https:https://i.imgur.com/xOFGKud.png',\n  'https:https://i.imgur.com/PCKXpsY.jpg',\n  'https:https://i.imgur.com/ka5Kmrb.png',\n  'https:https://i.imgur.com/GJDgn66.jpg',\n  'https:https://i.imgur.com/PZzEgdL.png',\n  'https:https://i.imgur.com/DfvOFMi.jpg',\n  'https:https://i.imgur.com/pOmcBB1.jpg',\n  'https:https://i.imgur.com/UVFMYsj.jpg',\n  'https:https://i.imgur.com/yf9FckS.jpg',\n  'https:https://i.imgur.com/56PKPSj.jpg',\n  'https:https://i.imgur.com/UQpHPmi.jpg',\n  'https:https://i.imgur.com/3q3zkRI.jpg',\n  'https:https://i.imgur.com/wcYtRci.png',\n  'https:https://i.imgur.com/CMAAtq0.jpg',\n  'https:https://i.imgur.com/9T0kgyD.png',\n  'https:https://i.imgur.com/cd7r1zT.jpg',\n  'https:https://i.imgur.com/K6ifRxi.jpg',\n  'https:https://i.imgur.com/x0YtKKC.jpg'],\n ['[帥哥] 阿伯', '/bbs/Beauty/M.1583705664.A.6C8.html', '3/09'],\n ['[正妹] 愛妳愛妳309',\n  '/bbs/Beauty/M.1583715958.A.94A.html',\n  '3/09',\n  'https:https://i.imgur.com/LR23Dsq.jpg',\n  'https:https://i.imgur.com/JbCZIi2.jpg',\n  'https:https://i.imgur.com/33sp1SB.jpg',\n  'https:https://i.imgur.com/mt4tXdT.jpg',\n  'https:https://i.imgur.com/WPuXUbj.jpg',\n  'https:https://i.imgur.com/5lvnaOA.jpg',\n  'https:https://i.imgur.com/NZfaCOl.jpg',\n  'https:https://i.imgur.com/CeK07ee.jpg',\n  'https:https://i.imgur.com/8A0tGhk.jpg',\n  'https:https://i.imgur.com/xNZTa96.jpg',\n  'https:https://i.imgur.com/PVr7Xqm.jpg',\n  'https:https://i.imgur.com/78lQMxH.jpg',\n  'https:https://i.imgur.com/DL3zrAV.jpg',\n  'https:https://i.imgur.com/HAwewIE.jpg',\n  'https:https://i.imgur.com/ZIEK2QP.jpg',\n  'https:https://i.imgur.com/Hkt8rLD.jpg'],\n ['[正妹] 西尾夕香',\n  '/bbs/Beauty/M.1583718227.A.92E.html',\n  '3/09',\n  'https:https://i.imgur.com/K402sqZ.png',\n  'https:https://i.imgur.com/7c6cuMo.jpg',\n  'https:https://i.imgur.com/PkajG25.jpg',\n  'https:https://i.imgur.com/Yks6lKp.png',\n  'https:https://i.imgur.com/TMlIEdS.png',\n  'https:https://i.imgur.com/WjIkOXz.png',\n  'https:https://i.imgur.com/cJkpbRE.png',\n  'https:https://i.imgur.com/KGlfZWA.png',\n  'https:https://i.imgur.com/aTbVVeX.jpg',\n  'https:https://i.imgur.com/t64fKfU.png',\n  'https:https://i.imgur.com/z7yDHTF.png',\n  'https:https://i.imgur.com/a4mmVAM.jpg',\n  'https:https://i.imgur.com/5RS01xN.png',\n  'https:https://i.imgur.com/MEQkZtE.png',\n  'https:https://i.imgur.com/HflX0QC.jpg',\n  'https:https://i.imgur.com/L6eGyIB.png',\n  'https:https://i.imgur.com/925adwS.png',\n  'https:https://i.imgur.com/oPozio1.png',\n  'https:https://i.imgur.com/nKugsgi.png',\n  'https:https://i.imgur.com/TvyyXwP.png',\n  'https:https://i.imgur.com/rRpAFqE.png',\n  'https:https://i.imgur.com/bTvZ4sS.png',\n  'https:https://i.imgur.com/ooALCJe.png',\n  'https:https://i.imgur.com/cURnuOZ.png',\n  'https:https://i.imgur.com/tmvDf2L.png',\n  'https:https://i.imgur.com/SwU04Pc.png',\n  'https:https://i.imgur.com/5797iUb.png',\n  'https:https://i.imgur.com/qMwXcg2.png',\n  'https:https://i.imgur.com/XnkNQU7.png',\n  'https:https://i.imgur.com/dhZyjzK.png',\n  'https:https://i.imgur.com/jWiQ8tE.png',\n  'https:https://i.imgur.com/YZy4dmP.png',\n  'https:https://i.imgur.com/0aQnkLj.png',\n  'https:https://i.imgur.com/BVkApaZ.jpg',\n  'https:https://i.imgur.com/9SCjJm3.png',\n  'https:https://i.imgur.com/krnG695.png',\n  'https:https://i.imgur.com/SDWJUZd.png',\n  'https:https://i.imgur.com/bBYcdLU.png',\n  'https:https://i.imgur.com/HFCvOrq.png',\n  'https:https://i.imgur.com/14Afx29.png',\n  'https:https://i.imgur.com/FvsPWeP.png',\n  'https:https://i.imgur.com/wr9fGNQ.png',\n  'https:https://i.imgur.com/Z7H8lbP.png',\n  'https:https://i.imgur.com/E9K7hd1.png',\n  'https:https://i.imgur.com/s069JU4.png',\n  'https:https://i.imgur.com/JdP77ET.png',\n  'https:https://i.imgur.com/9WIqeO7.png',\n  'https:https://i.imgur.com/8VqnWa0.png',\n  'https:https://i.imgur.com/euR96st.png',\n  'https:https://i.imgur.com/XFj0OU2.jpg',\n  'https:https://i.imgur.com/1qCFfl4.png',\n  'https:https://i.imgur.com/wseWayM.jpg',\n  'https:https://i.imgur.com/OHiC40Z.png',\n  'https:https://i.imgur.com/AREQfbs.png',\n  'https:https://i.imgur.com/SBw545H.jpg',\n  'https:https://i.imgur.com/Chdqly2.png',\n  'https:https://i.imgur.com/kno3ld8.png',\n  'https:https://i.imgur.com/x5hO629.jpg',\n  'https:https://i.imgur.com/yp2XDqO.jpg',\n  'https:https://i.imgur.com/aRPWXaW.jpg',\n  'https:https://i.imgur.com/UYJxV5j.png',\n  'https:https://i.imgur.com/aAQQTVc.jpg',\n  'https:https://i.imgur.com/HEjuHA3.png',\n  'https:https://i.imgur.com/sHjBYiK.png',\n  'https:https://i.imgur.com/Zw2udTY.png',\n  'https:https://i.imgur.com/ydhVUd4.png',\n  'https:https://i.imgur.com/jj1sRRF.jpg',\n  'https:https://i.imgur.com/Jds3ITq.jpg',\n  'https:https://i.imgur.com/wiGeUAZ.jpg',\n  'https:https://i.imgur.com/SKC4Rcd.jpg',\n  'https:https://i.imgur.com/7SiegoZ.jpg',\n  'https:https://i.imgur.com/dVHHNLT.jpg',\n  'https:https://i.imgur.com/5K5czy0.jpg',\n  'https:https://i.imgur.com/hho3fyU.jpg'],\n ['[神人] 與艾瑪教練健身的女警',\n  '/bbs/Beauty/M.1583719618.A.DB1.html',\n  '3/09',\n  'https:https://i.imgur.com/iq6yXvj.jpg',\n  'https:https://i.imgur.com/P86INqo.jpg',\n  'https:https://i.imgur.com/PehYjDx.jpg',\n  'https:https://i.imgur.com/BzRHd0F.jpg'],\n ['[正妹] 這個不兇',\n  '/bbs/Beauty/M.1583720629.A.DDD.html',\n  '3/09',\n  'https:https://i.imgur.com/TcT9T7M.jpg',\n  'https:https://i.imgur.com/nZkplWL.jpg',\n  'https:https://i.imgur.com/Ik4eruJ.jpg',\n  'https:https://i.imgur.com/p6slq7T.jpg',\n  'https:https://i.imgur.com/ZWNNGqF.jpg',\n  'https:https://i.imgur.com/z7yunEO.jpg',\n  'https:https://i.imgur.com/SgTrwlV.jpg',\n  'https:https://i.imgur.com/vRkkh8X.jpg',\n  'https:https://i.imgur.com/g7qGQ0R.jpg',\n  'https:https://i.imgur.com/uUmXNKT.jpg',\n  'https:https://i.imgur.com/ahDgmNy.jpg'],\n ['[正妹] 日向坂46 金村美玖',\n  '/bbs/Beauty/M.1583724852.A.484.html',\n  '3/09',\n  'https:https://i.imgur.com/V2ot9uG.jpg',\n  'https:https://i.imgur.com/hSQIrK7.jpg',\n  'https:https://i.imgur.com/2sQb4ZZ.jpg',\n  'https:https://i.imgur.com/xmfD7p3.jpg',\n  'https:https://i.imgur.com/MPMP3J3.jpg',\n  'https:https://i.imgur.com/MqsCJz5.jpg'],\n ['[正妹]NMB48村瀨紗英',\n  '/bbs/Beauty/M.1583726328.A.B88.html',\n  '3/09',\n  'https:https://i.imgur.com/XQCBKAP.jpg',\n  'https:https://i.imgur.com/06oF7Zq.jpg',\n  'https:https://i.imgur.com/gecqpEM.jpg',\n  'https:https://i.imgur.com/05SkOvL.jpg',\n  'https:https://i.imgur.com/ZjZEmCa.jpg',\n  'https:https://i.imgur.com/JG7Tv8s.jpg',\n  'https:https://i.imgur.com/kmf9gZi.jpg',\n  'https:https://i.imgur.com/Aq6yNcv.jpg',\n  'https:https://i.imgur.com/sO2SiXC.jpg',\n  'https:https://i.imgur.com/oW1hIT4.jpg',\n  'https:https://i.imgur.com/63NBTOG.jpg',\n  'https:https://i.imgur.com/YKKgxoT.jpg']]"
     },
     "execution_count": 177,
     "metadata": {},
     "output_type": "execute_result"
    }
   ],
   "source": [
    "import re\n",
    "import copy\n",
    "num = 0\n",
    "storage_ = []\n",
    "storage = []\n",
    "beauty = []\n",
    "ptt_url = 'https://www.ptt.cc'\n",
    "driver.get(url)\n",
    "soup = BeautifulSoup(driver.page_source,'lxml')\n",
    "menu = soup.select('#main-container div div.r-ent')\n",
    "for title in menu:\n",
    "    storage = copy.deepcopy(storage_)\n",
    "    try:\n",
    "        if '廣告' in title.select('div.title a')[0].text.strip():\n",
    "            continue\n",
    "        storage.append(title.select('div.title a')[0].text.strip())\n",
    "        storage.append(title.select('div.title a')[0].get('href'))\n",
    "        storage.append(title.select('div.meta div.date')[0].text.strip())\n",
    "        driver.get(ptt_url+title.select('div.title a')[0].get('href'))\n",
    "        soup_content = BeautifulSoup(driver.page_source,'lxml')\n",
    "        text_content = soup_content.select('div#main-content.bbs-screen.bbs-content')[0].text.split('--')[0]\n",
    "        for readline in text_content.replace('\\n\\n\\n\\n', '\\n').replace('\\n\\n\\n', '\\n').replace('\\n\\n', '\\n').split('\\n'):\n",
    "            url_check = re.search(r'(https:\\/\\/(i\\.)?imgur\\.com(\\/[a-zA-Z])?\\/[0-9a-zA-Z]{7}(\\.(jpg|png|gif|bmp|jpeg))?)', readline)\n",
    "            if url_check:\n",
    "                storage.append(url_check.group(0))\n",
    "        beauty.append(storage)\n",
    "    except:\n",
    "        pass\n",
    "beauty"
   ]
  },
  {
   "cell_type": "code",
   "execution_count": 139,
   "metadata": {},
   "outputs": [
    {
     "ename": "error",
     "evalue": "unbalanced parenthesis at position 57",
     "output_type": "error",
     "traceback": [
      "\u001b[0;31m---------------------------------------------------------------------------\u001b[0m",
      "\u001b[0;31merror\u001b[0m                                     Traceback (most recent call last)",
      "\u001b[0;32m<ipython-input-139-e248ab8e4a20>\u001b[0m in \u001b[0;36m<module>\u001b[0;34m\u001b[0m\n\u001b[1;32m      5\u001b[0m \u001b[0mtext_content\u001b[0m \u001b[0;34m=\u001b[0m \u001b[0msoup\u001b[0m\u001b[0;34m.\u001b[0m\u001b[0mselect\u001b[0m\u001b[0;34m(\u001b[0m\u001b[0;34m'div#main-content.bbs-screen.bbs-content'\u001b[0m\u001b[0;34m)\u001b[0m\u001b[0;34m[\u001b[0m\u001b[0;36m0\u001b[0m\u001b[0;34m]\u001b[0m\u001b[0;34m.\u001b[0m\u001b[0mtext\u001b[0m\u001b[0;34m.\u001b[0m\u001b[0msplit\u001b[0m\u001b[0;34m(\u001b[0m\u001b[0;34m'--'\u001b[0m\u001b[0;34m)\u001b[0m\u001b[0;34m[\u001b[0m\u001b[0;36m0\u001b[0m\u001b[0;34m]\u001b[0m\u001b[0;34m\u001b[0m\u001b[0;34m\u001b[0m\u001b[0m\n\u001b[1;32m      6\u001b[0m \u001b[0;32mfor\u001b[0m \u001b[0mreadline\u001b[0m \u001b[0;32min\u001b[0m \u001b[0mtext_content\u001b[0m\u001b[0;34m.\u001b[0m\u001b[0msplit\u001b[0m\u001b[0;34m(\u001b[0m\u001b[0;34m'\\n'\u001b[0m\u001b[0;34m)\u001b[0m\u001b[0;34m:\u001b[0m\u001b[0;34m\u001b[0m\u001b[0;34m\u001b[0m\u001b[0m\n\u001b[0;32m----> 7\u001b[0;31m     \u001b[0murl_check\u001b[0m \u001b[0;34m=\u001b[0m \u001b[0mre\u001b[0m\u001b[0;34m.\u001b[0m\u001b[0msearch\u001b[0m\u001b[0;34m(\u001b[0m\u001b[0;34mr'(https\\:\\/\\/(i\\.)?imgur\\.com\\(/[a-zA-Z])?\\/[0-9a-zA-Z]{7})'\u001b[0m\u001b[0;34m,\u001b[0m \u001b[0mreadline\u001b[0m\u001b[0;34m)\u001b[0m\u001b[0;34m\u001b[0m\u001b[0;34m\u001b[0m\u001b[0m\n\u001b[0m\u001b[1;32m      8\u001b[0m     \u001b[0;32mif\u001b[0m \u001b[0murl_check\u001b[0m\u001b[0;34m:\u001b[0m\u001b[0;34m\u001b[0m\u001b[0;34m\u001b[0m\u001b[0m\n\u001b[1;32m      9\u001b[0m         \u001b[0mprint\u001b[0m\u001b[0;34m(\u001b[0m\u001b[0murl_check\u001b[0m\u001b[0;34m.\u001b[0m\u001b[0mgroup\u001b[0m\u001b[0;34m(\u001b[0m\u001b[0;36m0\u001b[0m\u001b[0;34m)\u001b[0m\u001b[0;34m)\u001b[0m\u001b[0;34m\u001b[0m\u001b[0;34m\u001b[0m\u001b[0m\n",
      "\u001b[0;32m~/opt/anaconda3/lib/python3.7/re.py\u001b[0m in \u001b[0;36msearch\u001b[0;34m(pattern, string, flags)\u001b[0m\n\u001b[1;32m    181\u001b[0m     \"\"\"Scan through string looking for a match to the pattern, returning\n\u001b[1;32m    182\u001b[0m     a Match object, or None if no match was found.\"\"\"\n\u001b[0;32m--> 183\u001b[0;31m     \u001b[0;32mreturn\u001b[0m \u001b[0m_compile\u001b[0m\u001b[0;34m(\u001b[0m\u001b[0mpattern\u001b[0m\u001b[0;34m,\u001b[0m \u001b[0mflags\u001b[0m\u001b[0;34m)\u001b[0m\u001b[0;34m.\u001b[0m\u001b[0msearch\u001b[0m\u001b[0;34m(\u001b[0m\u001b[0mstring\u001b[0m\u001b[0;34m)\u001b[0m\u001b[0;34m\u001b[0m\u001b[0;34m\u001b[0m\u001b[0m\n\u001b[0m\u001b[1;32m    184\u001b[0m \u001b[0;34m\u001b[0m\u001b[0m\n\u001b[1;32m    185\u001b[0m \u001b[0;32mdef\u001b[0m \u001b[0msub\u001b[0m\u001b[0;34m(\u001b[0m\u001b[0mpattern\u001b[0m\u001b[0;34m,\u001b[0m \u001b[0mrepl\u001b[0m\u001b[0;34m,\u001b[0m \u001b[0mstring\u001b[0m\u001b[0;34m,\u001b[0m \u001b[0mcount\u001b[0m\u001b[0;34m=\u001b[0m\u001b[0;36m0\u001b[0m\u001b[0;34m,\u001b[0m \u001b[0mflags\u001b[0m\u001b[0;34m=\u001b[0m\u001b[0;36m0\u001b[0m\u001b[0;34m)\u001b[0m\u001b[0;34m:\u001b[0m\u001b[0;34m\u001b[0m\u001b[0;34m\u001b[0m\u001b[0m\n",
      "\u001b[0;32m~/opt/anaconda3/lib/python3.7/re.py\u001b[0m in \u001b[0;36m_compile\u001b[0;34m(pattern, flags)\u001b[0m\n\u001b[1;32m    284\u001b[0m     \u001b[0;32mif\u001b[0m \u001b[0;32mnot\u001b[0m \u001b[0msre_compile\u001b[0m\u001b[0;34m.\u001b[0m\u001b[0misstring\u001b[0m\u001b[0;34m(\u001b[0m\u001b[0mpattern\u001b[0m\u001b[0;34m)\u001b[0m\u001b[0;34m:\u001b[0m\u001b[0;34m\u001b[0m\u001b[0;34m\u001b[0m\u001b[0m\n\u001b[1;32m    285\u001b[0m         \u001b[0;32mraise\u001b[0m \u001b[0mTypeError\u001b[0m\u001b[0;34m(\u001b[0m\u001b[0;34m\"first argument must be string or compiled pattern\"\u001b[0m\u001b[0;34m)\u001b[0m\u001b[0;34m\u001b[0m\u001b[0;34m\u001b[0m\u001b[0m\n\u001b[0;32m--> 286\u001b[0;31m     \u001b[0mp\u001b[0m \u001b[0;34m=\u001b[0m \u001b[0msre_compile\u001b[0m\u001b[0;34m.\u001b[0m\u001b[0mcompile\u001b[0m\u001b[0;34m(\u001b[0m\u001b[0mpattern\u001b[0m\u001b[0;34m,\u001b[0m \u001b[0mflags\u001b[0m\u001b[0;34m)\u001b[0m\u001b[0;34m\u001b[0m\u001b[0;34m\u001b[0m\u001b[0m\n\u001b[0m\u001b[1;32m    287\u001b[0m     \u001b[0;32mif\u001b[0m \u001b[0;32mnot\u001b[0m \u001b[0;34m(\u001b[0m\u001b[0mflags\u001b[0m \u001b[0;34m&\u001b[0m \u001b[0mDEBUG\u001b[0m\u001b[0;34m)\u001b[0m\u001b[0;34m:\u001b[0m\u001b[0;34m\u001b[0m\u001b[0;34m\u001b[0m\u001b[0m\n\u001b[1;32m    288\u001b[0m         \u001b[0;32mif\u001b[0m \u001b[0mlen\u001b[0m\u001b[0;34m(\u001b[0m\u001b[0m_cache\u001b[0m\u001b[0;34m)\u001b[0m \u001b[0;34m>=\u001b[0m \u001b[0m_MAXCACHE\u001b[0m\u001b[0;34m:\u001b[0m\u001b[0;34m\u001b[0m\u001b[0;34m\u001b[0m\u001b[0m\n",
      "\u001b[0;32m~/opt/anaconda3/lib/python3.7/sre_compile.py\u001b[0m in \u001b[0;36mcompile\u001b[0;34m(p, flags)\u001b[0m\n\u001b[1;32m    762\u001b[0m     \u001b[0;32mif\u001b[0m \u001b[0misstring\u001b[0m\u001b[0;34m(\u001b[0m\u001b[0mp\u001b[0m\u001b[0;34m)\u001b[0m\u001b[0;34m:\u001b[0m\u001b[0;34m\u001b[0m\u001b[0;34m\u001b[0m\u001b[0m\n\u001b[1;32m    763\u001b[0m         \u001b[0mpattern\u001b[0m \u001b[0;34m=\u001b[0m \u001b[0mp\u001b[0m\u001b[0;34m\u001b[0m\u001b[0;34m\u001b[0m\u001b[0m\n\u001b[0;32m--> 764\u001b[0;31m         \u001b[0mp\u001b[0m \u001b[0;34m=\u001b[0m \u001b[0msre_parse\u001b[0m\u001b[0;34m.\u001b[0m\u001b[0mparse\u001b[0m\u001b[0;34m(\u001b[0m\u001b[0mp\u001b[0m\u001b[0;34m,\u001b[0m \u001b[0mflags\u001b[0m\u001b[0;34m)\u001b[0m\u001b[0;34m\u001b[0m\u001b[0;34m\u001b[0m\u001b[0m\n\u001b[0m\u001b[1;32m    765\u001b[0m     \u001b[0;32melse\u001b[0m\u001b[0;34m:\u001b[0m\u001b[0;34m\u001b[0m\u001b[0;34m\u001b[0m\u001b[0m\n\u001b[1;32m    766\u001b[0m         \u001b[0mpattern\u001b[0m \u001b[0;34m=\u001b[0m \u001b[0;32mNone\u001b[0m\u001b[0;34m\u001b[0m\u001b[0;34m\u001b[0m\u001b[0m\n",
      "\u001b[0;32m~/opt/anaconda3/lib/python3.7/sre_parse.py\u001b[0m in \u001b[0;36mparse\u001b[0;34m(str, flags, pattern)\u001b[0m\n\u001b[1;32m    942\u001b[0m     \u001b[0;32mif\u001b[0m \u001b[0msource\u001b[0m\u001b[0;34m.\u001b[0m\u001b[0mnext\u001b[0m \u001b[0;32mis\u001b[0m \u001b[0;32mnot\u001b[0m \u001b[0;32mNone\u001b[0m\u001b[0;34m:\u001b[0m\u001b[0;34m\u001b[0m\u001b[0;34m\u001b[0m\u001b[0m\n\u001b[1;32m    943\u001b[0m         \u001b[0;32massert\u001b[0m \u001b[0msource\u001b[0m\u001b[0;34m.\u001b[0m\u001b[0mnext\u001b[0m \u001b[0;34m==\u001b[0m \u001b[0;34m\")\"\u001b[0m\u001b[0;34m\u001b[0m\u001b[0;34m\u001b[0m\u001b[0m\n\u001b[0;32m--> 944\u001b[0;31m         \u001b[0;32mraise\u001b[0m \u001b[0msource\u001b[0m\u001b[0;34m.\u001b[0m\u001b[0merror\u001b[0m\u001b[0;34m(\u001b[0m\u001b[0;34m\"unbalanced parenthesis\"\u001b[0m\u001b[0;34m)\u001b[0m\u001b[0;34m\u001b[0m\u001b[0;34m\u001b[0m\u001b[0m\n\u001b[0m\u001b[1;32m    945\u001b[0m \u001b[0;34m\u001b[0m\u001b[0m\n\u001b[1;32m    946\u001b[0m     \u001b[0;32mif\u001b[0m \u001b[0mflags\u001b[0m \u001b[0;34m&\u001b[0m \u001b[0mSRE_FLAG_DEBUG\u001b[0m\u001b[0;34m:\u001b[0m\u001b[0;34m\u001b[0m\u001b[0;34m\u001b[0m\u001b[0m\n",
      "\u001b[0;31merror\u001b[0m: unbalanced parenthesis at position 57"
     ]
    }
   ],
   "source": [
    "num = 2\n",
    "ptt_url = 'https://www.ptt.cc'\n",
    "driver.get(ptt_url+beauty[num][1])\n",
    "soup = BeautifulSoup(driver.page_source,'lxml')\n",
    "text_content = soup.select('div#main-content.bbs-screen.bbs-content')[0].text.split('--')[0]"
   ]
  },
  {
   "cell_type": "code",
   "execution_count": 169,
   "metadata": {},
   "outputs": [
    {
     "name": "stdout",
     "output_type": "stream",
     "text": "<class 'str'>\n['作者F1060113 (阿極)看板Beauty標題[正妹]NMB48村瀨紗英時間Mon Mar  9 11:58:45 2020', 'https://i.imgur.com/XQCBKAP.jpg]', 'https://i.imgur.com/06oF7Zq.jpg', 'https://i.imgur.com/gecqpEM.jpg', 'https://i.imgur.com/05SkOvL.jpg', 'https://i.imgur.com/ZjZEmCa.jpg', 'https://i.imgur.com/JG7Tv8s.jpg', 'https://i.imgur.com/kmf9gZi.jpg', 'https://i.imgur.com/Aq6yNcv.jpg', 'https://i.imgur.com/sO2SiXC.jpg', 'https://i.imgur.com/oW1hIT4.jpg', 'https://i.imgur.com/63NBTOG.jpg', 'https://i.imgur.com/YKKgxoT.jpg', 'ig：', 'https://instagram.com/saepiiii.m?igshid=3qupm4i5o8do', '', '']\nhttps://i.imgur.com/XQCBKAP.jpg\nhttps://i.imgur.com/06oF7Zq.jpg\nhttps://i.imgur.com/gecqpEM.jpg\nhttps://i.imgur.com/05SkOvL.jpg\nhttps://i.imgur.com/ZjZEmCa.jpg\nhttps://i.imgur.com/JG7Tv8s.jpg\nhttps://i.imgur.com/kmf9gZi.jpg\nhttps://i.imgur.com/Aq6yNcv.jpg\nhttps://i.imgur.com/sO2SiXC.jpg\nhttps://i.imgur.com/oW1hIT4.jpg\nhttps://i.imgur.com/63NBTOG.jpg\nhttps://i.imgur.com/YKKgxoT.jpg\n16\n"
    }
   ],
   "source": [
    "import re\n",
    "print(type(text_content))\n",
    "print(text_content.split('\\n'))\n",
    "cc = 0\n",
    "for readline in text_content.replace('\\n\\n\\n\\n', '\\n').replace('\\n\\n\\n', '\\n').replace('\\n\\n', '\\n').split('\\n'):\n",
    "    cc +=1\n",
    "    url_check = re.search(r'(https:\\/\\/(i\\.)?imgur\\.com(\\/[a-zA-Z])?\\/[0-9a-zA-Z]{7}(\\.(jpg|png|gif))?)', readline)\n",
    "    if url_check:\n",
    "        print(url_check.group(0))\n",
    "print(cc)"
   ]
  },
  {
   "cell_type": "code",
   "execution_count": 173,
   "metadata": {},
   "outputs": [
    {
     "data": {
      "text/plain": "[]"
     },
     "execution_count": 173,
     "metadata": {},
     "output_type": "execute_result"
    }
   ],
   "source": [
    "beauty"
   ]
  },
  {
   "cell_type": "code",
   "execution_count": 197,
   "metadata": {},
   "outputs": [
    {
     "name": "stdout",
     "output_type": "stream",
     "text": "7\n8\n9\n10\n11\n12\n"
    }
   ],
   "source": [
    "import time\n",
    "import redis\n",
    "\n",
    "cache = redis.Redis(host='0.0.0.0', port=6379)\n",
    "for a in range(0,6):\n",
    "    y = cache.incr('x')\n",
    "    print(y)"
   ]
  },
  {
   "cell_type": "code",
   "execution_count": 188,
   "metadata": {},
   "outputs": [
    {
     "data": {
      "text/plain": "True"
     },
     "execution_count": 188,
     "metadata": {},
     "output_type": "execute_result"
    }
   ],
   "source": [
    "cache.flushall()  #清空全部db的內容\n",
    "cache.flushdb() #清空目前db的內容"
   ]
  },
  {
   "cell_type": "code",
   "execution_count": 189,
   "metadata": {},
   "outputs": [
    {
     "data": {
      "text/plain": "0"
     },
     "execution_count": 189,
     "metadata": {},
     "output_type": "execute_result"
    }
   ],
   "source": [
    "cache.exists('x') #查看key值是否存在,true返回1,false返回0"
   ]
  },
  {
   "cell_type": "code",
   "execution_count": 200,
   "metadata": {},
   "outputs": [
    {
     "data": {
      "text/plain": "True"
     },
     "execution_count": 200,
     "metadata": {},
     "output_type": "execute_result"
    }
   ],
   "source": [
    "cache.set('a','A') #key-value\n",
    "cache.set('b','B')"
   ]
  },
  {
   "cell_type": "code",
   "execution_count": 193,
   "metadata": {},
   "outputs": [
    {
     "name": "stdout",
     "output_type": "stream",
     "text": "b'A'\nb'B'\n"
    }
   ],
   "source": [
    "print(cache.get('a')) #key-value\n",
    "print(cache.get('b'))"
   ]
  },
  {
   "cell_type": "code",
   "execution_count": 202,
   "metadata": {},
   "outputs": [
    {
     "data": {
      "text/plain": "True"
     },
     "execution_count": 202,
     "metadata": {},
     "output_type": "execute_result"
    }
   ],
   "source": [
    "cache.expire('a',100) #過期"
   ]
  },
  {
   "cell_type": "code",
   "execution_count": 203,
   "metadata": {},
   "outputs": [
    {
     "data": {
      "text/plain": "95"
     },
     "execution_count": 203,
     "metadata": {},
     "output_type": "execute_result"
    }
   ],
   "source": [
    "cache.ttl('a')"
   ]
  },
  {
   "cell_type": "code",
   "execution_count": null,
   "metadata": {},
   "outputs": [],
   "source": []
  }
 ]
}